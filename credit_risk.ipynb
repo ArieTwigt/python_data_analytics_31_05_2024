{
 "cells": [
  {
   "cell_type": "code",
   "execution_count": 36,
   "metadata": {},
   "outputs": [],
   "source": [
    "# import the modules\n",
    "import pandas\n",
    "import numpy"
   ]
  },
  {
   "cell_type": "code",
   "execution_count": 4,
   "metadata": {},
   "outputs": [],
   "source": [
    "# import the data\n",
    "data = pandas.read_csv(\"data/german_data_clean.csv\")"
   ]
  },
  {
   "cell_type": "markdown",
   "metadata": {},
   "source": [
    "# Exploratory Data Analysis\n",
    "\n",
    "Steps:\n",
    "\n",
    "* Check for the data types\n",
    "* Check for the data values\n",
    "* Check for statistics"
   ]
  },
  {
   "cell_type": "markdown",
   "metadata": {},
   "source": [
    "## Check for data types"
   ]
  },
  {
   "cell_type": "code",
   "execution_count": 6,
   "metadata": {},
   "outputs": [
    {
     "data": {
      "text/plain": [
       "checking_account             object\n",
       "duration_months               int64\n",
       "credit_history               object\n",
       "purpose                      object\n",
       "credit_amount                 int64\n",
       "savings                      object\n",
       "present_employment_since     object\n",
       "installment_rate              int64\n",
       "personal_status_sex          object\n",
       "other_deptors                object\n",
       "present_residence             int64\n",
       "property                     object\n",
       "age_years                     int64\n",
       "other_installment_plans      object\n",
       "housing                      object\n",
       "existing_credits              int64\n",
       "job                          object\n",
       "people_liable_maintenance     int64\n",
       "telephone                    object\n",
       "foreign_worker               object\n",
       "response                      int64\n",
       "dtype: object"
      ]
     },
     "execution_count": 6,
     "metadata": {},
     "output_type": "execute_result"
    }
   ],
   "source": [
    "# check for the data types\n",
    "data.dtypes"
   ]
  },
  {
   "cell_type": "code",
   "execution_count": 8,
   "metadata": {},
   "outputs": [
    {
     "name": "stdout",
     "output_type": "stream",
     "text": [
      "<class 'pandas.core.frame.DataFrame'>\n",
      "RangeIndex: 1000 entries, 0 to 999\n",
      "Data columns (total 21 columns):\n",
      " #   Column                     Non-Null Count  Dtype \n",
      "---  ------                     --------------  ----- \n",
      " 0   checking_account           1000 non-null   object\n",
      " 1   duration_months            1000 non-null   int64 \n",
      " 2   credit_history             1000 non-null   object\n",
      " 3   purpose                    1000 non-null   object\n",
      " 4   credit_amount              1000 non-null   int64 \n",
      " 5   savings                    1000 non-null   object\n",
      " 6   present_employment_since   1000 non-null   object\n",
      " 7   installment_rate           1000 non-null   int64 \n",
      " 8   personal_status_sex        1000 non-null   object\n",
      " 9   other_deptors              1000 non-null   object\n",
      " 10  present_residence          1000 non-null   int64 \n",
      " 11  property                   1000 non-null   object\n",
      " 12  age_years                  1000 non-null   int64 \n",
      " 13  other_installment_plans    1000 non-null   object\n",
      " 14  housing                    1000 non-null   object\n",
      " 15  existing_credits           1000 non-null   int64 \n",
      " 16  job                        1000 non-null   object\n",
      " 17  people_liable_maintenance  1000 non-null   int64 \n",
      " 18  telephone                  1000 non-null   object\n",
      " 19  foreign_worker             1000 non-null   object\n",
      " 20  response                   1000 non-null   int64 \n",
      "dtypes: int64(8), object(13)\n",
      "memory usage: 164.2+ KB\n"
     ]
    }
   ],
   "source": [
    "# show more information about the data\n",
    "data.info()"
   ]
  },
  {
   "cell_type": "markdown",
   "metadata": {},
   "source": [
    "## Check for data values"
   ]
  },
  {
   "cell_type": "code",
   "execution_count": 9,
   "metadata": {},
   "outputs": [
    {
     "data": {
      "text/plain": [
       "Index(['checking_account', 'duration_months', 'credit_history', 'purpose',\n",
       "       'credit_amount', 'savings', 'present_employment_since',\n",
       "       'installment_rate', 'personal_status_sex', 'other_deptors',\n",
       "       'present_residence', 'property', 'age_years', 'other_installment_plans',\n",
       "       'housing', 'existing_credits', 'job', 'people_liable_maintenance',\n",
       "       'telephone', 'foreign_worker', 'response'],\n",
       "      dtype='object')"
      ]
     },
     "execution_count": 9,
     "metadata": {},
     "output_type": "execute_result"
    }
   ],
   "source": [
    "# show all columns\n",
    "data.columns"
   ]
  },
  {
   "cell_type": "code",
   "execution_count": 12,
   "metadata": {},
   "outputs": [
    {
     "data": {
      "text/plain": [
       "995    furniture/equipment\n",
       "996             car (used)\n",
       "997       radio/television\n",
       "998       radio/television\n",
       "999             car (used)\n",
       "Name: purpose, dtype: object"
      ]
     },
     "execution_count": 12,
     "metadata": {},
     "output_type": "execute_result"
    }
   ],
   "source": [
    "# select the purpose column\n",
    "data['purpose'].tail()"
   ]
  },
  {
   "cell_type": "code",
   "execution_count": 13,
   "metadata": {},
   "outputs": [
    {
     "data": {
      "text/plain": [
       "array(['radio/television', 'education', 'furniture/equipment',\n",
       "       'car (new)', 'car (used)', 'business', 'domestic appliances',\n",
       "       'repairs', 'others', 'retraining'], dtype=object)"
      ]
     },
     "execution_count": 13,
     "metadata": {},
     "output_type": "execute_result"
    }
   ],
   "source": [
    "# show the different values\n",
    "data['purpose'].unique()"
   ]
  },
  {
   "cell_type": "code",
   "execution_count": 14,
   "metadata": {},
   "outputs": [
    {
     "data": {
      "text/plain": [
       "purpose\n",
       "radio/television       280\n",
       "car (new)              234\n",
       "furniture/equipment    181\n",
       "car (used)             103\n",
       "business                97\n",
       "education               50\n",
       "repairs                 22\n",
       "domestic appliances     12\n",
       "others                  12\n",
       "retraining               9\n",
       "Name: count, dtype: int64"
      ]
     },
     "execution_count": 14,
     "metadata": {},
     "output_type": "execute_result"
    }
   ],
   "source": [
    "# show the unique values and counts\n",
    "data['purpose'].value_counts()"
   ]
  },
  {
   "cell_type": "code",
   "execution_count": 21,
   "metadata": {},
   "outputs": [
    {
     "data": {
      "text/html": [
       "<div>\n",
       "<style scoped>\n",
       "    .dataframe tbody tr th:only-of-type {\n",
       "        vertical-align: middle;\n",
       "    }\n",
       "\n",
       "    .dataframe tbody tr th {\n",
       "        vertical-align: top;\n",
       "    }\n",
       "\n",
       "    .dataframe thead th {\n",
       "        text-align: right;\n",
       "    }\n",
       "</style>\n",
       "<table border=\"1\" class=\"dataframe\">\n",
       "  <thead>\n",
       "    <tr style=\"text-align: right;\">\n",
       "      <th></th>\n",
       "      <th>duration_months</th>\n",
       "      <th>credit_amount</th>\n",
       "      <th>installment_rate</th>\n",
       "      <th>present_residence</th>\n",
       "      <th>age_years</th>\n",
       "      <th>existing_credits</th>\n",
       "      <th>people_liable_maintenance</th>\n",
       "      <th>response</th>\n",
       "    </tr>\n",
       "  </thead>\n",
       "  <tbody>\n",
       "    <tr>\n",
       "      <th>count</th>\n",
       "      <td>1000.000000</td>\n",
       "      <td>1000.000000</td>\n",
       "      <td>1000.000000</td>\n",
       "      <td>1000.000000</td>\n",
       "      <td>1000.000000</td>\n",
       "      <td>1000.000000</td>\n",
       "      <td>1000.000000</td>\n",
       "      <td>1000.000000</td>\n",
       "    </tr>\n",
       "    <tr>\n",
       "      <th>mean</th>\n",
       "      <td>20.903000</td>\n",
       "      <td>3271.258000</td>\n",
       "      <td>2.973000</td>\n",
       "      <td>2.845000</td>\n",
       "      <td>35.546000</td>\n",
       "      <td>1.407000</td>\n",
       "      <td>1.155000</td>\n",
       "      <td>0.300000</td>\n",
       "    </tr>\n",
       "    <tr>\n",
       "      <th>std</th>\n",
       "      <td>12.058814</td>\n",
       "      <td>2822.736876</td>\n",
       "      <td>1.118715</td>\n",
       "      <td>1.103718</td>\n",
       "      <td>11.375469</td>\n",
       "      <td>0.577654</td>\n",
       "      <td>0.362086</td>\n",
       "      <td>0.458487</td>\n",
       "    </tr>\n",
       "    <tr>\n",
       "      <th>min</th>\n",
       "      <td>4.000000</td>\n",
       "      <td>250.000000</td>\n",
       "      <td>1.000000</td>\n",
       "      <td>1.000000</td>\n",
       "      <td>19.000000</td>\n",
       "      <td>1.000000</td>\n",
       "      <td>1.000000</td>\n",
       "      <td>0.000000</td>\n",
       "    </tr>\n",
       "    <tr>\n",
       "      <th>25%</th>\n",
       "      <td>12.000000</td>\n",
       "      <td>1365.500000</td>\n",
       "      <td>2.000000</td>\n",
       "      <td>2.000000</td>\n",
       "      <td>27.000000</td>\n",
       "      <td>1.000000</td>\n",
       "      <td>1.000000</td>\n",
       "      <td>0.000000</td>\n",
       "    </tr>\n",
       "    <tr>\n",
       "      <th>50%</th>\n",
       "      <td>18.000000</td>\n",
       "      <td>2319.500000</td>\n",
       "      <td>3.000000</td>\n",
       "      <td>3.000000</td>\n",
       "      <td>33.000000</td>\n",
       "      <td>1.000000</td>\n",
       "      <td>1.000000</td>\n",
       "      <td>0.000000</td>\n",
       "    </tr>\n",
       "    <tr>\n",
       "      <th>75%</th>\n",
       "      <td>24.000000</td>\n",
       "      <td>3972.250000</td>\n",
       "      <td>4.000000</td>\n",
       "      <td>4.000000</td>\n",
       "      <td>42.000000</td>\n",
       "      <td>2.000000</td>\n",
       "      <td>1.000000</td>\n",
       "      <td>1.000000</td>\n",
       "    </tr>\n",
       "    <tr>\n",
       "      <th>max</th>\n",
       "      <td>72.000000</td>\n",
       "      <td>18424.000000</td>\n",
       "      <td>4.000000</td>\n",
       "      <td>4.000000</td>\n",
       "      <td>75.000000</td>\n",
       "      <td>4.000000</td>\n",
       "      <td>2.000000</td>\n",
       "      <td>1.000000</td>\n",
       "    </tr>\n",
       "  </tbody>\n",
       "</table>\n",
       "</div>"
      ],
      "text/plain": [
       "       duration_months  credit_amount  installment_rate  present_residence  \\\n",
       "count      1000.000000    1000.000000       1000.000000        1000.000000   \n",
       "mean         20.903000    3271.258000          2.973000           2.845000   \n",
       "std          12.058814    2822.736876          1.118715           1.103718   \n",
       "min           4.000000     250.000000          1.000000           1.000000   \n",
       "25%          12.000000    1365.500000          2.000000           2.000000   \n",
       "50%          18.000000    2319.500000          3.000000           3.000000   \n",
       "75%          24.000000    3972.250000          4.000000           4.000000   \n",
       "max          72.000000   18424.000000          4.000000           4.000000   \n",
       "\n",
       "         age_years  existing_credits  people_liable_maintenance     response  \n",
       "count  1000.000000       1000.000000                1000.000000  1000.000000  \n",
       "mean     35.546000          1.407000                   1.155000     0.300000  \n",
       "std      11.375469          0.577654                   0.362086     0.458487  \n",
       "min      19.000000          1.000000                   1.000000     0.000000  \n",
       "25%      27.000000          1.000000                   1.000000     0.000000  \n",
       "50%      33.000000          1.000000                   1.000000     0.000000  \n",
       "75%      42.000000          2.000000                   1.000000     1.000000  \n",
       "max      75.000000          4.000000                   2.000000     1.000000  "
      ]
     },
     "execution_count": 21,
     "metadata": {},
     "output_type": "execute_result"
    }
   ],
   "source": [
    "# show the max value for credit_amount\n",
    "data.describe()"
   ]
  },
  {
   "cell_type": "code",
   "execution_count": 24,
   "metadata": {},
   "outputs": [
    {
     "data": {
      "text/plain": [
       "3271.258"
      ]
     },
     "execution_count": 24,
     "metadata": {},
     "output_type": "execute_result"
    }
   ],
   "source": [
    "# calculate the total credit amount\n",
    "data['credit_amount'].sum() / len(data)"
   ]
  },
  {
   "cell_type": "markdown",
   "metadata": {},
   "source": [
    "# Data modification"
   ]
  },
  {
   "cell_type": "code",
   "execution_count": 32,
   "metadata": {},
   "outputs": [],
   "source": [
    "# add a new column\n",
    "data['payment'] = data['credit_amount'] / data['duration_months']"
   ]
  },
  {
   "cell_type": "code",
   "execution_count": 33,
   "metadata": {},
   "outputs": [
    {
     "data": {
      "text/plain": [
       "count    1000.000000\n",
       "mean      167.687020\n",
       "std       153.490959\n",
       "min        24.055556\n",
       "25%        89.600000\n",
       "50%       130.333333\n",
       "75%       206.183333\n",
       "max      2482.666667\n",
       "Name: payment, dtype: float64"
      ]
     },
     "execution_count": 33,
     "metadata": {},
     "output_type": "execute_result"
    }
   ],
   "source": [
    "# show statistics for our new column\n",
    "data['payment'].describe()"
   ]
  },
  {
   "cell_type": "code",
   "execution_count": 34,
   "metadata": {},
   "outputs": [
    {
     "data": {
      "text/plain": [
       "array(['radio/television', 'education', 'furniture/equipment',\n",
       "       'car (new)', 'car (used)', 'business', 'domestic appliances',\n",
       "       'repairs', 'others', 'retraining'], dtype=object)"
      ]
     },
     "execution_count": 34,
     "metadata": {},
     "output_type": "execute_result"
    }
   ],
   "source": [
    "# overview of different purposes\n",
    "data['purpose'].unique()"
   ]
  },
  {
   "cell_type": "code",
   "execution_count": 46,
   "metadata": {},
   "outputs": [],
   "source": [
    "car_purposes = ['car (new)', 'car (used)']\n",
    "\n",
    "data['car_loan'] = numpy.where(data['purpose'].isin(car_purposes), 'yes', 'no')"
   ]
  },
  {
   "cell_type": "code",
   "execution_count": 44,
   "metadata": {},
   "outputs": [
    {
     "data": {
      "text/plain": [
       "car_loan\n",
       "no     663\n",
       "yes    337\n",
       "Name: count, dtype: int64"
      ]
     },
     "execution_count": 44,
     "metadata": {},
     "output_type": "execute_result"
    }
   ],
   "source": [
    "data['car_loan'].value_counts()"
   ]
  },
  {
   "cell_type": "code",
   "execution_count": null,
   "metadata": {},
   "outputs": [],
   "source": []
  }
 ],
 "metadata": {
  "kernelspec": {
   "display_name": "Python 3",
   "language": "python",
   "name": "python3"
  },
  "language_info": {
   "codemirror_mode": {
    "name": "ipython",
    "version": 3
   },
   "file_extension": ".py",
   "mimetype": "text/x-python",
   "name": "python",
   "nbconvert_exporter": "python",
   "pygments_lexer": "ipython3",
   "version": "3.9.6"
  }
 },
 "nbformat": 4,
 "nbformat_minor": 2
}
