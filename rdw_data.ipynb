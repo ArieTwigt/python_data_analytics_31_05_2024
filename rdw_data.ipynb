{
 "cells": [
  {
   "cell_type": "markdown",
   "metadata": {},
   "source": [
    "# Car Data Analysis"
   ]
  },
  {
   "cell_type": "markdown",
   "metadata": {},
   "source": [
    "## Data import"
   ]
  },
  {
   "cell_type": "code",
   "execution_count": 59,
   "metadata": {},
   "outputs": [],
   "source": [
    "import requests\n",
    "import pandas"
   ]
  },
  {
   "cell_type": "code",
   "execution_count": 79,
   "metadata": {},
   "outputs": [
    {
     "data": {
      "text/plain": [
       "'https://opendata.rdw.nl/resource/m9d7-ebf2.json?merk=FIAT&eerste_kleur=ROOD'"
      ]
     },
     "execution_count": 79,
     "metadata": {},
     "output_type": "execute_result"
    }
   ],
   "source": [
    "# define the endpoint\n",
    "brand = \"fiat\"\n",
    "brand_upper = brand.upper()\n",
    "\n",
    "color = \"rood\"\n",
    "color_upper = color.upper()\n",
    "\n",
    "endpoint = f\"https://opendata.rdw.nl/resource/m9d7-ebf2.json?merk={brand_upper}&eerste_kleur={color_upper}\"\n",
    "endpoint"
   ]
  },
  {
   "cell_type": "code",
   "execution_count": 80,
   "metadata": {},
   "outputs": [],
   "source": [
    "# send the request\n",
    "response = requests.get(endpoint)"
   ]
  },
  {
   "cell_type": "code",
   "execution_count": 81,
   "metadata": {},
   "outputs": [
    {
     "data": {
      "text/plain": [
       "200"
      ]
     },
     "execution_count": 81,
     "metadata": {},
     "output_type": "execute_result"
    }
   ],
   "source": [
    "# check the status code\n",
    "response.status_code"
   ]
  },
  {
   "cell_type": "code",
   "execution_count": 82,
   "metadata": {},
   "outputs": [],
   "source": [
    "# get the data from the response\n",
    "data = response.json()"
   ]
  },
  {
   "cell_type": "code",
   "execution_count": 83,
   "metadata": {},
   "outputs": [],
   "source": [
    "# convert the list with dictionaries to a DataFrame\n",
    "df = pandas.DataFrame(data)"
   ]
  },
  {
   "cell_type": "code",
   "execution_count": 84,
   "metadata": {},
   "outputs": [
    {
     "data": {
      "text/html": [
       "<div>\n",
       "<style scoped>\n",
       "    .dataframe tbody tr th:only-of-type {\n",
       "        vertical-align: middle;\n",
       "    }\n",
       "\n",
       "    .dataframe tbody tr th {\n",
       "        vertical-align: top;\n",
       "    }\n",
       "\n",
       "    .dataframe thead th {\n",
       "        text-align: right;\n",
       "    }\n",
       "</style>\n",
       "<table border=\"1\" class=\"dataframe\">\n",
       "  <thead>\n",
       "    <tr style=\"text-align: right;\">\n",
       "      <th></th>\n",
       "      <th>kenteken</th>\n",
       "      <th>voertuigsoort</th>\n",
       "      <th>merk</th>\n",
       "      <th>handelsbenaming</th>\n",
       "      <th>datum_tenaamstelling</th>\n",
       "      <th>inrichting</th>\n",
       "      <th>eerste_kleur</th>\n",
       "      <th>tweede_kleur</th>\n",
       "      <th>aantal_cilinders</th>\n",
       "      <th>massa_ledig_voertuig</th>\n",
       "      <th>...</th>\n",
       "      <th>uitvoering</th>\n",
       "      <th>aantal_rolstoelplaatsen</th>\n",
       "      <th>vervaldatum_apk_dt</th>\n",
       "      <th>zuinigheidsclassificatie</th>\n",
       "      <th>type</th>\n",
       "      <th>maximum_ondersteunende_snelheid</th>\n",
       "      <th>catalogusprijs</th>\n",
       "      <th>type_gasinstallatie</th>\n",
       "      <th>registratie_datum_goedkeuring_afschrijvingsmoment_bpm</th>\n",
       "      <th>registratie_datum_goedkeuring_afschrijvingsmoment_bpm_dt</th>\n",
       "    </tr>\n",
       "  </thead>\n",
       "  <tbody>\n",
       "    <tr>\n",
       "      <th>0</th>\n",
       "      <td>0005RZ</td>\n",
       "      <td>Personenauto</td>\n",
       "      <td>FIAT</td>\n",
       "      <td>DINO COUPE 2400</td>\n",
       "      <td>20130429</td>\n",
       "      <td>Niet geregistreerd</td>\n",
       "      <td>ROOD</td>\n",
       "      <td>Niet geregistreerd</td>\n",
       "      <td>6</td>\n",
       "      <td>1377</td>\n",
       "      <td>...</td>\n",
       "      <td>NaN</td>\n",
       "      <td>NaN</td>\n",
       "      <td>NaN</td>\n",
       "      <td>NaN</td>\n",
       "      <td>NaN</td>\n",
       "      <td>NaN</td>\n",
       "      <td>NaN</td>\n",
       "      <td>NaN</td>\n",
       "      <td>NaN</td>\n",
       "      <td>NaN</td>\n",
       "    </tr>\n",
       "    <tr>\n",
       "      <th>1</th>\n",
       "      <td>0022HZ</td>\n",
       "      <td>Personenauto</td>\n",
       "      <td>FIAT</td>\n",
       "      <td>124 SPORT CABRIOLET</td>\n",
       "      <td>19761029</td>\n",
       "      <td>Niet geregistreerd</td>\n",
       "      <td>ROOD</td>\n",
       "      <td>Niet geregistreerd</td>\n",
       "      <td>4</td>\n",
       "      <td>910</td>\n",
       "      <td>...</td>\n",
       "      <td>NaN</td>\n",
       "      <td>NaN</td>\n",
       "      <td>NaN</td>\n",
       "      <td>NaN</td>\n",
       "      <td>NaN</td>\n",
       "      <td>NaN</td>\n",
       "      <td>NaN</td>\n",
       "      <td>NaN</td>\n",
       "      <td>NaN</td>\n",
       "      <td>NaN</td>\n",
       "    </tr>\n",
       "    <tr>\n",
       "      <th>2</th>\n",
       "      <td>0054NG</td>\n",
       "      <td>Personenauto</td>\n",
       "      <td>FIAT</td>\n",
       "      <td>SPORT 850 CABRIOLET</td>\n",
       "      <td>20021206</td>\n",
       "      <td>Niet geregistreerd</td>\n",
       "      <td>ROOD</td>\n",
       "      <td>Niet geregistreerd</td>\n",
       "      <td>4</td>\n",
       "      <td>725</td>\n",
       "      <td>...</td>\n",
       "      <td>NaN</td>\n",
       "      <td>NaN</td>\n",
       "      <td>NaN</td>\n",
       "      <td>NaN</td>\n",
       "      <td>NaN</td>\n",
       "      <td>NaN</td>\n",
       "      <td>NaN</td>\n",
       "      <td>NaN</td>\n",
       "      <td>NaN</td>\n",
       "      <td>NaN</td>\n",
       "    </tr>\n",
       "    <tr>\n",
       "      <th>3</th>\n",
       "      <td>0085DJ</td>\n",
       "      <td>Personenauto</td>\n",
       "      <td>FIAT</td>\n",
       "      <td>NUOVA 500</td>\n",
       "      <td>20150320</td>\n",
       "      <td>Niet geregistreerd</td>\n",
       "      <td>ROOD</td>\n",
       "      <td>Niet geregistreerd</td>\n",
       "      <td>2</td>\n",
       "      <td>511</td>\n",
       "      <td>...</td>\n",
       "      <td>NaN</td>\n",
       "      <td>NaN</td>\n",
       "      <td>NaN</td>\n",
       "      <td>NaN</td>\n",
       "      <td>NaN</td>\n",
       "      <td>NaN</td>\n",
       "      <td>NaN</td>\n",
       "      <td>NaN</td>\n",
       "      <td>NaN</td>\n",
       "      <td>NaN</td>\n",
       "    </tr>\n",
       "    <tr>\n",
       "      <th>4</th>\n",
       "      <td>0094RT</td>\n",
       "      <td>Personenauto</td>\n",
       "      <td>FIAT</td>\n",
       "      <td>850 E SPECIAL</td>\n",
       "      <td>20161001</td>\n",
       "      <td>Niet geregistreerd</td>\n",
       "      <td>ROOD</td>\n",
       "      <td>Niet geregistreerd</td>\n",
       "      <td>4</td>\n",
       "      <td>692</td>\n",
       "      <td>...</td>\n",
       "      <td>NaN</td>\n",
       "      <td>NaN</td>\n",
       "      <td>NaN</td>\n",
       "      <td>NaN</td>\n",
       "      <td>NaN</td>\n",
       "      <td>NaN</td>\n",
       "      <td>NaN</td>\n",
       "      <td>NaN</td>\n",
       "      <td>NaN</td>\n",
       "      <td>NaN</td>\n",
       "    </tr>\n",
       "  </tbody>\n",
       "</table>\n",
       "<p>5 rows × 63 columns</p>\n",
       "</div>"
      ],
      "text/plain": [
       "  kenteken voertuigsoort  merk      handelsbenaming datum_tenaamstelling  \\\n",
       "0   0005RZ  Personenauto  FIAT      DINO COUPE 2400             20130429   \n",
       "1   0022HZ  Personenauto  FIAT  124 SPORT CABRIOLET             19761029   \n",
       "2   0054NG  Personenauto  FIAT  SPORT 850 CABRIOLET             20021206   \n",
       "3   0085DJ  Personenauto  FIAT            NUOVA 500             20150320   \n",
       "4   0094RT  Personenauto  FIAT        850 E SPECIAL             20161001   \n",
       "\n",
       "           inrichting eerste_kleur        tweede_kleur aantal_cilinders  \\\n",
       "0  Niet geregistreerd         ROOD  Niet geregistreerd                6   \n",
       "1  Niet geregistreerd         ROOD  Niet geregistreerd                4   \n",
       "2  Niet geregistreerd         ROOD  Niet geregistreerd                4   \n",
       "3  Niet geregistreerd         ROOD  Niet geregistreerd                2   \n",
       "4  Niet geregistreerd         ROOD  Niet geregistreerd                4   \n",
       "\n",
       "  massa_ledig_voertuig  ... uitvoering aantal_rolstoelplaatsen  \\\n",
       "0                 1377  ...        NaN                     NaN   \n",
       "1                  910  ...        NaN                     NaN   \n",
       "2                  725  ...        NaN                     NaN   \n",
       "3                  511  ...        NaN                     NaN   \n",
       "4                  692  ...        NaN                     NaN   \n",
       "\n",
       "  vervaldatum_apk_dt zuinigheidsclassificatie type  \\\n",
       "0                NaN                      NaN  NaN   \n",
       "1                NaN                      NaN  NaN   \n",
       "2                NaN                      NaN  NaN   \n",
       "3                NaN                      NaN  NaN   \n",
       "4                NaN                      NaN  NaN   \n",
       "\n",
       "  maximum_ondersteunende_snelheid catalogusprijs type_gasinstallatie  \\\n",
       "0                             NaN            NaN                 NaN   \n",
       "1                             NaN            NaN                 NaN   \n",
       "2                             NaN            NaN                 NaN   \n",
       "3                             NaN            NaN                 NaN   \n",
       "4                             NaN            NaN                 NaN   \n",
       "\n",
       "  registratie_datum_goedkeuring_afschrijvingsmoment_bpm  \\\n",
       "0                                                NaN      \n",
       "1                                                NaN      \n",
       "2                                                NaN      \n",
       "3                                                NaN      \n",
       "4                                                NaN      \n",
       "\n",
       "  registratie_datum_goedkeuring_afschrijvingsmoment_bpm_dt  \n",
       "0                                                NaN        \n",
       "1                                                NaN        \n",
       "2                                                NaN        \n",
       "3                                                NaN        \n",
       "4                                                NaN        \n",
       "\n",
       "[5 rows x 63 columns]"
      ]
     },
     "execution_count": 84,
     "metadata": {},
     "output_type": "execute_result"
    }
   ],
   "source": [
    "# show the first values of a DataFrame\n",
    "df.head()"
   ]
  },
  {
   "cell_type": "code",
   "execution_count": null,
   "metadata": {},
   "outputs": [],
   "source": []
  },
  {
   "cell_type": "markdown",
   "metadata": {},
   "source": [
    "## Data Cleaning"
   ]
  },
  {
   "cell_type": "markdown",
   "metadata": {},
   "source": [
    "### Selection of columns\n",
    "\n",
    "Columns:\n",
    "* merk\n",
    "* handelsbenaming\n",
    "* catalogusprijs\n",
    "* datum_tenaamstelling\n",
    "* voertuig_soort\n",
    "* aantal_cilinders"
   ]
  },
  {
   "cell_type": "code",
   "execution_count": 93,
   "metadata": {},
   "outputs": [],
   "source": [
    "# specify a list of columns\n",
    "columns_list = ['merk', 'handelsbenaming', 'catalogusprijs', \n",
    "                'datum_tenaamstelling', 'voertuigsoort', 'aantal_cilinders']"
   ]
  },
  {
   "cell_type": "code",
   "execution_count": 114,
   "metadata": {},
   "outputs": [],
   "source": [
    "# use the list to get the columns from the DataFrame\n",
    "df_filtered = df[columns_list]"
   ]
  },
  {
   "cell_type": "code",
   "execution_count": 115,
   "metadata": {},
   "outputs": [
    {
     "data": {
      "text/plain": [
       "catalogusprijs\n",
       "20695    11\n",
       "10145     8\n",
       "11215     8\n",
       "9720      7\n",
       "13239     6\n",
       "         ..\n",
       "9570      1\n",
       "16422     1\n",
       "16695     1\n",
       "16258     1\n",
       "13325     1\n",
       "Name: count, Length: 310, dtype: int64"
      ]
     },
     "execution_count": 115,
     "metadata": {},
     "output_type": "execute_result"
    }
   ],
   "source": [
    "# show the data frame\n",
    "df_filtered['catalogusprijs'].value_counts()"
   ]
  },
  {
   "cell_type": "code",
   "execution_count": 116,
   "metadata": {},
   "outputs": [
    {
     "data": {
      "text/html": [
       "<div>\n",
       "<style scoped>\n",
       "    .dataframe tbody tr th:only-of-type {\n",
       "        vertical-align: middle;\n",
       "    }\n",
       "\n",
       "    .dataframe tbody tr th {\n",
       "        vertical-align: top;\n",
       "    }\n",
       "\n",
       "    .dataframe thead th {\n",
       "        text-align: right;\n",
       "    }\n",
       "</style>\n",
       "<table border=\"1\" class=\"dataframe\">\n",
       "  <thead>\n",
       "    <tr style=\"text-align: right;\">\n",
       "      <th></th>\n",
       "      <th>merk</th>\n",
       "      <th>handelsbenaming</th>\n",
       "      <th>catalogusprijs</th>\n",
       "      <th>datum_tenaamstelling</th>\n",
       "      <th>voertuigsoort</th>\n",
       "      <th>aantal_cilinders</th>\n",
       "    </tr>\n",
       "  </thead>\n",
       "  <tbody>\n",
       "    <tr>\n",
       "      <th>0</th>\n",
       "      <td>FIAT</td>\n",
       "      <td>DINO COUPE 2400</td>\n",
       "      <td>NaN</td>\n",
       "      <td>20130429</td>\n",
       "      <td>Personenauto</td>\n",
       "      <td>6</td>\n",
       "    </tr>\n",
       "    <tr>\n",
       "      <th>1</th>\n",
       "      <td>FIAT</td>\n",
       "      <td>124 SPORT CABRIOLET</td>\n",
       "      <td>NaN</td>\n",
       "      <td>19761029</td>\n",
       "      <td>Personenauto</td>\n",
       "      <td>4</td>\n",
       "    </tr>\n",
       "    <tr>\n",
       "      <th>2</th>\n",
       "      <td>FIAT</td>\n",
       "      <td>SPORT 850 CABRIOLET</td>\n",
       "      <td>NaN</td>\n",
       "      <td>20021206</td>\n",
       "      <td>Personenauto</td>\n",
       "      <td>4</td>\n",
       "    </tr>\n",
       "    <tr>\n",
       "      <th>3</th>\n",
       "      <td>FIAT</td>\n",
       "      <td>NUOVA 500</td>\n",
       "      <td>NaN</td>\n",
       "      <td>20150320</td>\n",
       "      <td>Personenauto</td>\n",
       "      <td>2</td>\n",
       "    </tr>\n",
       "    <tr>\n",
       "      <th>4</th>\n",
       "      <td>FIAT</td>\n",
       "      <td>850 E SPECIAL</td>\n",
       "      <td>NaN</td>\n",
       "      <td>20161001</td>\n",
       "      <td>Personenauto</td>\n",
       "      <td>4</td>\n",
       "    </tr>\n",
       "    <tr>\n",
       "      <th>...</th>\n",
       "      <td>...</td>\n",
       "      <td>...</td>\n",
       "      <td>...</td>\n",
       "      <td>...</td>\n",
       "      <td>...</td>\n",
       "      <td>...</td>\n",
       "    </tr>\n",
       "    <tr>\n",
       "      <th>995</th>\n",
       "      <td>FIAT</td>\n",
       "      <td>FIAT PANDA</td>\n",
       "      <td>NaN</td>\n",
       "      <td>20200717</td>\n",
       "      <td>Personenauto</td>\n",
       "      <td>4</td>\n",
       "    </tr>\n",
       "    <tr>\n",
       "      <th>996</th>\n",
       "      <td>FIAT</td>\n",
       "      <td>FIAT 500</td>\n",
       "      <td>NaN</td>\n",
       "      <td>20230306</td>\n",
       "      <td>Personenauto</td>\n",
       "      <td>4</td>\n",
       "    </tr>\n",
       "    <tr>\n",
       "      <th>997</th>\n",
       "      <td>FIAT</td>\n",
       "      <td>NUOVA 500</td>\n",
       "      <td>NaN</td>\n",
       "      <td>20210928</td>\n",
       "      <td>Personenauto</td>\n",
       "      <td>2</td>\n",
       "    </tr>\n",
       "    <tr>\n",
       "      <th>998</th>\n",
       "      <td>FIAT</td>\n",
       "      <td>600L</td>\n",
       "      <td>NaN</td>\n",
       "      <td>20230907</td>\n",
       "      <td>Personenauto</td>\n",
       "      <td>4</td>\n",
       "    </tr>\n",
       "    <tr>\n",
       "      <th>999</th>\n",
       "      <td>FIAT</td>\n",
       "      <td>600L</td>\n",
       "      <td>NaN</td>\n",
       "      <td>20230606</td>\n",
       "      <td>Personenauto</td>\n",
       "      <td>4</td>\n",
       "    </tr>\n",
       "  </tbody>\n",
       "</table>\n",
       "<p>1000 rows × 6 columns</p>\n",
       "</div>"
      ],
      "text/plain": [
       "     merk      handelsbenaming catalogusprijs datum_tenaamstelling  \\\n",
       "0    FIAT      DINO COUPE 2400            NaN             20130429   \n",
       "1    FIAT  124 SPORT CABRIOLET            NaN             19761029   \n",
       "2    FIAT  SPORT 850 CABRIOLET            NaN             20021206   \n",
       "3    FIAT            NUOVA 500            NaN             20150320   \n",
       "4    FIAT        850 E SPECIAL            NaN             20161001   \n",
       "..    ...                  ...            ...                  ...   \n",
       "995  FIAT           FIAT PANDA            NaN             20200717   \n",
       "996  FIAT             FIAT 500            NaN             20230306   \n",
       "997  FIAT            NUOVA 500            NaN             20210928   \n",
       "998  FIAT                 600L            NaN             20230907   \n",
       "999  FIAT                 600L            NaN             20230606   \n",
       "\n",
       "    voertuigsoort aantal_cilinders  \n",
       "0    Personenauto                6  \n",
       "1    Personenauto                4  \n",
       "2    Personenauto                4  \n",
       "3    Personenauto                2  \n",
       "4    Personenauto                4  \n",
       "..            ...              ...  \n",
       "995  Personenauto                4  \n",
       "996  Personenauto                4  \n",
       "997  Personenauto                2  \n",
       "998  Personenauto                4  \n",
       "999  Personenauto                4  \n",
       "\n",
       "[1000 rows x 6 columns]"
      ]
     },
     "execution_count": 116,
     "metadata": {},
     "output_type": "execute_result"
    }
   ],
   "source": [
    "df_filtered"
   ]
  },
  {
   "cell_type": "code",
   "execution_count": 117,
   "metadata": {},
   "outputs": [
    {
     "name": "stdout",
     "output_type": "stream",
     "text": [
      "<class 'pandas.core.frame.DataFrame'>\n",
      "RangeIndex: 1000 entries, 0 to 999\n",
      "Data columns (total 6 columns):\n",
      " #   Column                Non-Null Count  Dtype \n",
      "---  ------                --------------  ----- \n",
      " 0   merk                  1000 non-null   object\n",
      " 1   handelsbenaming       1000 non-null   object\n",
      " 2   catalogusprijs        428 non-null    object\n",
      " 3   datum_tenaamstelling  962 non-null    object\n",
      " 4   voertuigsoort         1000 non-null   object\n",
      " 5   aantal_cilinders      1000 non-null   object\n",
      "dtypes: object(6)\n",
      "memory usage: 47.0+ KB\n"
     ]
    }
   ],
   "source": [
    "df_filtered.info()"
   ]
  },
  {
   "cell_type": "markdown",
   "metadata": {},
   "source": [
    "### Convert data types"
   ]
  },
  {
   "cell_type": "code",
   "execution_count": 118,
   "metadata": {},
   "outputs": [
    {
     "name": "stderr",
     "output_type": "stream",
     "text": [
      "/var/folders/ds/njs8n39s3nq3v_q1_vxpq1zc0000gn/T/ipykernel_75117/3662220194.py:2: SettingWithCopyWarning: \n",
      "A value is trying to be set on a copy of a slice from a DataFrame.\n",
      "Try using .loc[row_indexer,col_indexer] = value instead\n",
      "\n",
      "See the caveats in the documentation: https://pandas.pydata.org/pandas-docs/stable/user_guide/indexing.html#returning-a-view-versus-a-copy\n",
      "  df_filtered['catalogusprijs'] = df_filtered['catalogusprijs'].astype(float)\n"
     ]
    }
   ],
   "source": [
    "# convert the catalogusprijs\n",
    "df_filtered['catalogusprijs'] = df_filtered['catalogusprijs'].astype(float)"
   ]
  },
  {
   "cell_type": "code",
   "execution_count": 119,
   "metadata": {},
   "outputs": [
    {
     "name": "stdout",
     "output_type": "stream",
     "text": [
      "<class 'pandas.core.frame.DataFrame'>\n",
      "RangeIndex: 1000 entries, 0 to 999\n",
      "Data columns (total 6 columns):\n",
      " #   Column                Non-Null Count  Dtype  \n",
      "---  ------                --------------  -----  \n",
      " 0   merk                  1000 non-null   object \n",
      " 1   handelsbenaming       1000 non-null   object \n",
      " 2   catalogusprijs        428 non-null    float64\n",
      " 3   datum_tenaamstelling  962 non-null    object \n",
      " 4   voertuigsoort         1000 non-null   object \n",
      " 5   aantal_cilinders      1000 non-null   object \n",
      "dtypes: float64(1), object(5)\n",
      "memory usage: 47.0+ KB\n"
     ]
    }
   ],
   "source": [
    "df_filtered.info()"
   ]
  },
  {
   "cell_type": "code",
   "execution_count": 120,
   "metadata": {},
   "outputs": [
    {
     "data": {
      "text/plain": [
       "7845.0"
      ]
     },
     "execution_count": 120,
     "metadata": {},
     "output_type": "execute_result"
    }
   ],
   "source": [
    "df_filtered['catalogusprijs'].min()"
   ]
  },
  {
   "cell_type": "code",
   "execution_count": 121,
   "metadata": {},
   "outputs": [],
   "source": [
    "df_filtered = df_filtered.dropna(subset=['catalogusprijs'])\n",
    "\n",
    "# or\n",
    "#df_filtered['aantal_cilinders'].fillna(0)"
   ]
  },
  {
   "cell_type": "code",
   "execution_count": 122,
   "metadata": {},
   "outputs": [
    {
     "name": "stdout",
     "output_type": "stream",
     "text": [
      "<class 'pandas.core.frame.DataFrame'>\n",
      "Index: 428 entries, 20 to 994\n",
      "Data columns (total 6 columns):\n",
      " #   Column                Non-Null Count  Dtype  \n",
      "---  ------                --------------  -----  \n",
      " 0   merk                  428 non-null    object \n",
      " 1   handelsbenaming       428 non-null    object \n",
      " 2   catalogusprijs        428 non-null    float64\n",
      " 3   datum_tenaamstelling  414 non-null    object \n",
      " 4   voertuigsoort         428 non-null    object \n",
      " 5   aantal_cilinders      428 non-null    object \n",
      "dtypes: float64(1), object(5)\n",
      "memory usage: 23.4+ KB\n"
     ]
    }
   ],
   "source": [
    "df_filtered.info()"
   ]
  },
  {
   "cell_type": "code",
   "execution_count": 123,
   "metadata": {},
   "outputs": [
    {
     "data": {
      "text/html": [
       "<div>\n",
       "<style scoped>\n",
       "    .dataframe tbody tr th:only-of-type {\n",
       "        vertical-align: middle;\n",
       "    }\n",
       "\n",
       "    .dataframe tbody tr th {\n",
       "        vertical-align: top;\n",
       "    }\n",
       "\n",
       "    .dataframe thead th {\n",
       "        text-align: right;\n",
       "    }\n",
       "</style>\n",
       "<table border=\"1\" class=\"dataframe\">\n",
       "  <thead>\n",
       "    <tr style=\"text-align: right;\">\n",
       "      <th></th>\n",
       "      <th>merk</th>\n",
       "      <th>handelsbenaming</th>\n",
       "      <th>catalogusprijs</th>\n",
       "      <th>datum_tenaamstelling</th>\n",
       "      <th>voertuigsoort</th>\n",
       "      <th>aantal_cilinders</th>\n",
       "    </tr>\n",
       "  </thead>\n",
       "  <tbody>\n",
       "    <tr>\n",
       "      <th>20</th>\n",
       "      <td>FIAT</td>\n",
       "      <td>FIAT PANDA</td>\n",
       "      <td>10137.0</td>\n",
       "      <td>20161119</td>\n",
       "      <td>Personenauto</td>\n",
       "      <td>4</td>\n",
       "    </tr>\n",
       "    <tr>\n",
       "      <th>21</th>\n",
       "      <td>FIAT</td>\n",
       "      <td>FIAT 500</td>\n",
       "      <td>15804.0</td>\n",
       "      <td>20180518</td>\n",
       "      <td>Personenauto</td>\n",
       "      <td>4</td>\n",
       "    </tr>\n",
       "    <tr>\n",
       "      <th>22</th>\n",
       "      <td>FIAT</td>\n",
       "      <td>FIAT 500</td>\n",
       "      <td>15837.0</td>\n",
       "      <td>20221201</td>\n",
       "      <td>Personenauto</td>\n",
       "      <td>4</td>\n",
       "    </tr>\n",
       "    <tr>\n",
       "      <th>23</th>\n",
       "      <td>FIAT</td>\n",
       "      <td>FIAT PUNTO</td>\n",
       "      <td>14998.0</td>\n",
       "      <td>20230630</td>\n",
       "      <td>Personenauto</td>\n",
       "      <td>4</td>\n",
       "    </tr>\n",
       "    <tr>\n",
       "      <th>24</th>\n",
       "      <td>FIAT</td>\n",
       "      <td>FIAT 500</td>\n",
       "      <td>16268.0</td>\n",
       "      <td>20220924</td>\n",
       "      <td>Personenauto</td>\n",
       "      <td>4</td>\n",
       "    </tr>\n",
       "    <tr>\n",
       "      <th>...</th>\n",
       "      <td>...</td>\n",
       "      <td>...</td>\n",
       "      <td>...</td>\n",
       "      <td>...</td>\n",
       "      <td>...</td>\n",
       "      <td>...</td>\n",
       "    </tr>\n",
       "    <tr>\n",
       "      <th>978</th>\n",
       "      <td>FIAT</td>\n",
       "      <td>FIAT PUNTO</td>\n",
       "      <td>15339.0</td>\n",
       "      <td>20120928</td>\n",
       "      <td>Personenauto</td>\n",
       "      <td>2</td>\n",
       "    </tr>\n",
       "    <tr>\n",
       "      <th>983</th>\n",
       "      <td>FIAT</td>\n",
       "      <td>PANDA</td>\n",
       "      <td>12439.0</td>\n",
       "      <td>20160315</td>\n",
       "      <td>Personenauto</td>\n",
       "      <td>2</td>\n",
       "    </tr>\n",
       "    <tr>\n",
       "      <th>984</th>\n",
       "      <td>FIAT</td>\n",
       "      <td>PANDA</td>\n",
       "      <td>12950.0</td>\n",
       "      <td>20210528</td>\n",
       "      <td>Personenauto</td>\n",
       "      <td>2</td>\n",
       "    </tr>\n",
       "    <tr>\n",
       "      <th>988</th>\n",
       "      <td>FIAT</td>\n",
       "      <td>PANDA</td>\n",
       "      <td>13325.0</td>\n",
       "      <td>20220826</td>\n",
       "      <td>Personenauto</td>\n",
       "      <td>2</td>\n",
       "    </tr>\n",
       "    <tr>\n",
       "      <th>994</th>\n",
       "      <td>FIAT</td>\n",
       "      <td>PANDA</td>\n",
       "      <td>11215.0</td>\n",
       "      <td>20130302</td>\n",
       "      <td>Personenauto</td>\n",
       "      <td>2</td>\n",
       "    </tr>\n",
       "  </tbody>\n",
       "</table>\n",
       "<p>428 rows × 6 columns</p>\n",
       "</div>"
      ],
      "text/plain": [
       "     merk handelsbenaming  catalogusprijs datum_tenaamstelling voertuigsoort  \\\n",
       "20   FIAT      FIAT PANDA         10137.0             20161119  Personenauto   \n",
       "21   FIAT        FIAT 500         15804.0             20180518  Personenauto   \n",
       "22   FIAT        FIAT 500         15837.0             20221201  Personenauto   \n",
       "23   FIAT      FIAT PUNTO         14998.0             20230630  Personenauto   \n",
       "24   FIAT        FIAT 500         16268.0             20220924  Personenauto   \n",
       "..    ...             ...             ...                  ...           ...   \n",
       "978  FIAT      FIAT PUNTO         15339.0             20120928  Personenauto   \n",
       "983  FIAT           PANDA         12439.0             20160315  Personenauto   \n",
       "984  FIAT           PANDA         12950.0             20210528  Personenauto   \n",
       "988  FIAT           PANDA         13325.0             20220826  Personenauto   \n",
       "994  FIAT           PANDA         11215.0             20130302  Personenauto   \n",
       "\n",
       "    aantal_cilinders  \n",
       "20                 4  \n",
       "21                 4  \n",
       "22                 4  \n",
       "23                 4  \n",
       "24                 4  \n",
       "..               ...  \n",
       "978                2  \n",
       "983                2  \n",
       "984                2  \n",
       "988                2  \n",
       "994                2  \n",
       "\n",
       "[428 rows x 6 columns]"
      ]
     },
     "execution_count": 123,
     "metadata": {},
     "output_type": "execute_result"
    }
   ],
   "source": [
    "df_filtered"
   ]
  },
  {
   "cell_type": "code",
   "execution_count": 124,
   "metadata": {},
   "outputs": [
    {
     "name": "stderr",
     "output_type": "stream",
     "text": [
      "/var/folders/ds/njs8n39s3nq3v_q1_vxpq1zc0000gn/T/ipykernel_75117/3274051065.py:2: SettingWithCopyWarning: \n",
      "A value is trying to be set on a copy of a slice from a DataFrame.\n",
      "Try using .loc[row_indexer,col_indexer] = value instead\n",
      "\n",
      "See the caveats in the documentation: https://pandas.pydata.org/pandas-docs/stable/user_guide/indexing.html#returning-a-view-versus-a-copy\n",
      "  df_filtered['aantal_cilinders'] = df_filtered['aantal_cilinders'].astype(int)\n"
     ]
    }
   ],
   "source": [
    "# int\n",
    "df_filtered['aantal_cilinders'] = df_filtered['aantal_cilinders'].astype(int)\n"
   ]
  },
  {
   "cell_type": "code",
   "execution_count": 125,
   "metadata": {},
   "outputs": [
    {
     "name": "stdout",
     "output_type": "stream",
     "text": [
      "<class 'pandas.core.frame.DataFrame'>\n",
      "Index: 428 entries, 20 to 994\n",
      "Data columns (total 6 columns):\n",
      " #   Column                Non-Null Count  Dtype  \n",
      "---  ------                --------------  -----  \n",
      " 0   merk                  428 non-null    object \n",
      " 1   handelsbenaming       428 non-null    object \n",
      " 2   catalogusprijs        428 non-null    float64\n",
      " 3   datum_tenaamstelling  414 non-null    object \n",
      " 4   voertuigsoort         428 non-null    object \n",
      " 5   aantal_cilinders      428 non-null    int64  \n",
      "dtypes: float64(1), int64(1), object(4)\n",
      "memory usage: 23.4+ KB\n"
     ]
    }
   ],
   "source": [
    "df_filtered.info()"
   ]
  },
  {
   "cell_type": "code",
   "execution_count": 127,
   "metadata": {},
   "outputs": [
    {
     "data": {
      "text/plain": [
       "20    4\n",
       "21    4\n",
       "22    4\n",
       "23    4\n",
       "24    4\n",
       "Name: aantal_cilinders, dtype: int64"
      ]
     },
     "execution_count": 127,
     "metadata": {},
     "output_type": "execute_result"
    }
   ],
   "source": [
    "df_filtered['aantal_cilinders'].head()"
   ]
  },
  {
   "cell_type": "code",
   "execution_count": 128,
   "metadata": {},
   "outputs": [
    {
     "data": {
      "text/plain": [
       "20    20161119\n",
       "21    20180518\n",
       "22    20221201\n",
       "23    20230630\n",
       "24    20220924\n",
       "Name: datum_tenaamstelling, dtype: object"
      ]
     },
     "execution_count": 128,
     "metadata": {},
     "output_type": "execute_result"
    }
   ],
   "source": [
    "df_filtered['datum_tenaamstelling'].head()"
   ]
  },
  {
   "cell_type": "code",
   "execution_count": 129,
   "metadata": {},
   "outputs": [
    {
     "name": "stderr",
     "output_type": "stream",
     "text": [
      "/var/folders/ds/njs8n39s3nq3v_q1_vxpq1zc0000gn/T/ipykernel_75117/1494564696.py:2: SettingWithCopyWarning: \n",
      "A value is trying to be set on a copy of a slice from a DataFrame.\n",
      "Try using .loc[row_indexer,col_indexer] = value instead\n",
      "\n",
      "See the caveats in the documentation: https://pandas.pydata.org/pandas-docs/stable/user_guide/indexing.html#returning-a-view-versus-a-copy\n",
      "  df_filtered['datum_tenaamstelling'] = pandas.to_datetime(df_filtered['datum_tenaamstelling'], format=\"%Y%m%d\")\n"
     ]
    }
   ],
   "source": [
    "# convert the date data type\n",
    "df_filtered['datum_tenaamstelling'] = pandas.to_datetime(df_filtered['datum_tenaamstelling'], format=\"%Y%m%d\")"
   ]
  },
  {
   "cell_type": "code",
   "execution_count": 130,
   "metadata": {},
   "outputs": [
    {
     "name": "stdout",
     "output_type": "stream",
     "text": [
      "<class 'pandas.core.frame.DataFrame'>\n",
      "Index: 428 entries, 20 to 994\n",
      "Data columns (total 6 columns):\n",
      " #   Column                Non-Null Count  Dtype         \n",
      "---  ------                --------------  -----         \n",
      " 0   merk                  428 non-null    object        \n",
      " 1   handelsbenaming       428 non-null    object        \n",
      " 2   catalogusprijs        428 non-null    float64       \n",
      " 3   datum_tenaamstelling  414 non-null    datetime64[ns]\n",
      " 4   voertuigsoort         428 non-null    object        \n",
      " 5   aantal_cilinders      428 non-null    int64         \n",
      "dtypes: datetime64[ns](1), float64(1), int64(1), object(3)\n",
      "memory usage: 23.4+ KB\n"
     ]
    }
   ],
   "source": [
    "df_filtered.info()"
   ]
  },
  {
   "cell_type": "code",
   "execution_count": 137,
   "metadata": {},
   "outputs": [
    {
     "name": "stdout",
     "output_type": "stream",
     "text": [
      "<class 'pandas.core.frame.DataFrame'>\n",
      "Index: 428 entries, 20 to 994\n",
      "Data columns (total 6 columns):\n",
      " #   Column                Non-Null Count  Dtype         \n",
      "---  ------                --------------  -----         \n",
      " 0   merk                  428 non-null    object        \n",
      " 1   handelsbenaming       428 non-null    object        \n",
      " 2   catalogusprijs        428 non-null    float64       \n",
      " 3   datum_tenaamstelling  414 non-null    datetime64[ns]\n",
      " 4   voertuigsoort         428 non-null    object        \n",
      " 5   aantal_cilinders      428 non-null    int64         \n",
      "dtypes: datetime64[ns](1), float64(1), int64(1), object(3)\n",
      "memory usage: 39.6+ KB\n"
     ]
    }
   ],
   "source": [
    "df_filtered.info()"
   ]
  },
  {
   "cell_type": "code",
   "execution_count": 143,
   "metadata": {},
   "outputs": [
    {
     "data": {
      "text/plain": [
       "20      November\n",
       "21           May\n",
       "22      December\n",
       "23          June\n",
       "24     September\n",
       "         ...    \n",
       "978    September\n",
       "983        March\n",
       "984          May\n",
       "988       August\n",
       "994        March\n",
       "Name: datum_tenaamstelling, Length: 428, dtype: object"
      ]
     },
     "execution_count": 143,
     "metadata": {},
     "output_type": "execute_result"
    }
   ],
   "source": [
    "df_filtered['datum_tenaamstelling'].dt.month_name()"
   ]
  },
  {
   "cell_type": "code",
   "execution_count": 145,
   "metadata": {},
   "outputs": [
    {
     "data": {
      "text/plain": [
       "count      428.000000\n",
       "mean     14053.530374\n",
       "std       4504.673275\n",
       "min       7845.000000\n",
       "25%      10145.000000\n",
       "50%      13284.500000\n",
       "75%      16533.250000\n",
       "max      52967.000000\n",
       "Name: catalogusprijs, dtype: float64"
      ]
     },
     "execution_count": 145,
     "metadata": {},
     "output_type": "execute_result"
    }
   ],
   "source": [
    "df_filtered['catalogusprijs'].describe()"
   ]
  },
  {
   "cell_type": "code",
   "execution_count": 146,
   "metadata": {},
   "outputs": [
    {
     "data": {
      "text/html": [
       "<div>\n",
       "<style scoped>\n",
       "    .dataframe tbody tr th:only-of-type {\n",
       "        vertical-align: middle;\n",
       "    }\n",
       "\n",
       "    .dataframe tbody tr th {\n",
       "        vertical-align: top;\n",
       "    }\n",
       "\n",
       "    .dataframe thead th {\n",
       "        text-align: right;\n",
       "    }\n",
       "</style>\n",
       "<table border=\"1\" class=\"dataframe\">\n",
       "  <thead>\n",
       "    <tr style=\"text-align: right;\">\n",
       "      <th></th>\n",
       "      <th>merk</th>\n",
       "      <th>handelsbenaming</th>\n",
       "      <th>catalogusprijs</th>\n",
       "      <th>datum_tenaamstelling</th>\n",
       "      <th>voertuigsoort</th>\n",
       "      <th>aantal_cilinders</th>\n",
       "    </tr>\n",
       "  </thead>\n",
       "  <tbody>\n",
       "    <tr>\n",
       "      <th>20</th>\n",
       "      <td>FIAT</td>\n",
       "      <td>FIAT PANDA</td>\n",
       "      <td>10137.0</td>\n",
       "      <td>2016-11-19</td>\n",
       "      <td>Personenauto</td>\n",
       "      <td>4</td>\n",
       "    </tr>\n",
       "    <tr>\n",
       "      <th>21</th>\n",
       "      <td>FIAT</td>\n",
       "      <td>FIAT 500</td>\n",
       "      <td>15804.0</td>\n",
       "      <td>2018-05-18</td>\n",
       "      <td>Personenauto</td>\n",
       "      <td>4</td>\n",
       "    </tr>\n",
       "    <tr>\n",
       "      <th>22</th>\n",
       "      <td>FIAT</td>\n",
       "      <td>FIAT 500</td>\n",
       "      <td>15837.0</td>\n",
       "      <td>2022-12-01</td>\n",
       "      <td>Personenauto</td>\n",
       "      <td>4</td>\n",
       "    </tr>\n",
       "    <tr>\n",
       "      <th>23</th>\n",
       "      <td>FIAT</td>\n",
       "      <td>FIAT PUNTO</td>\n",
       "      <td>14998.0</td>\n",
       "      <td>2023-06-30</td>\n",
       "      <td>Personenauto</td>\n",
       "      <td>4</td>\n",
       "    </tr>\n",
       "    <tr>\n",
       "      <th>24</th>\n",
       "      <td>FIAT</td>\n",
       "      <td>FIAT 500</td>\n",
       "      <td>16268.0</td>\n",
       "      <td>2022-09-24</td>\n",
       "      <td>Personenauto</td>\n",
       "      <td>4</td>\n",
       "    </tr>\n",
       "    <tr>\n",
       "      <th>...</th>\n",
       "      <td>...</td>\n",
       "      <td>...</td>\n",
       "      <td>...</td>\n",
       "      <td>...</td>\n",
       "      <td>...</td>\n",
       "      <td>...</td>\n",
       "    </tr>\n",
       "    <tr>\n",
       "      <th>978</th>\n",
       "      <td>FIAT</td>\n",
       "      <td>FIAT PUNTO</td>\n",
       "      <td>15339.0</td>\n",
       "      <td>2012-09-28</td>\n",
       "      <td>Personenauto</td>\n",
       "      <td>2</td>\n",
       "    </tr>\n",
       "    <tr>\n",
       "      <th>983</th>\n",
       "      <td>FIAT</td>\n",
       "      <td>PANDA</td>\n",
       "      <td>12439.0</td>\n",
       "      <td>2016-03-15</td>\n",
       "      <td>Personenauto</td>\n",
       "      <td>2</td>\n",
       "    </tr>\n",
       "    <tr>\n",
       "      <th>984</th>\n",
       "      <td>FIAT</td>\n",
       "      <td>PANDA</td>\n",
       "      <td>12950.0</td>\n",
       "      <td>2021-05-28</td>\n",
       "      <td>Personenauto</td>\n",
       "      <td>2</td>\n",
       "    </tr>\n",
       "    <tr>\n",
       "      <th>988</th>\n",
       "      <td>FIAT</td>\n",
       "      <td>PANDA</td>\n",
       "      <td>13325.0</td>\n",
       "      <td>2022-08-26</td>\n",
       "      <td>Personenauto</td>\n",
       "      <td>2</td>\n",
       "    </tr>\n",
       "    <tr>\n",
       "      <th>994</th>\n",
       "      <td>FIAT</td>\n",
       "      <td>PANDA</td>\n",
       "      <td>11215.0</td>\n",
       "      <td>2013-03-02</td>\n",
       "      <td>Personenauto</td>\n",
       "      <td>2</td>\n",
       "    </tr>\n",
       "  </tbody>\n",
       "</table>\n",
       "<p>333 rows × 6 columns</p>\n",
       "</div>"
      ],
      "text/plain": [
       "     merk handelsbenaming  catalogusprijs datum_tenaamstelling voertuigsoort  \\\n",
       "20   FIAT      FIAT PANDA         10137.0           2016-11-19  Personenauto   \n",
       "21   FIAT        FIAT 500         15804.0           2018-05-18  Personenauto   \n",
       "22   FIAT        FIAT 500         15837.0           2022-12-01  Personenauto   \n",
       "23   FIAT      FIAT PUNTO         14998.0           2023-06-30  Personenauto   \n",
       "24   FIAT        FIAT 500         16268.0           2022-09-24  Personenauto   \n",
       "..    ...             ...             ...                  ...           ...   \n",
       "978  FIAT      FIAT PUNTO         15339.0           2012-09-28  Personenauto   \n",
       "983  FIAT           PANDA         12439.0           2016-03-15  Personenauto   \n",
       "984  FIAT           PANDA         12950.0           2021-05-28  Personenauto   \n",
       "988  FIAT           PANDA         13325.0           2022-08-26  Personenauto   \n",
       "994  FIAT           PANDA         11215.0           2013-03-02  Personenauto   \n",
       "\n",
       "     aantal_cilinders  \n",
       "20                  4  \n",
       "21                  4  \n",
       "22                  4  \n",
       "23                  4  \n",
       "24                  4  \n",
       "..                ...  \n",
       "978                 2  \n",
       "983                 2  \n",
       "984                 2  \n",
       "988                 2  \n",
       "994                 2  \n",
       "\n",
       "[333 rows x 6 columns]"
      ]
     },
     "execution_count": 146,
     "metadata": {},
     "output_type": "execute_result"
    }
   ],
   "source": [
    "df_filtered.query(\"catalogusprijs > 10000\")"
   ]
  },
  {
   "cell_type": "code",
   "execution_count": 150,
   "metadata": {},
   "outputs": [
    {
     "data": {
      "text/html": [
       "<div>\n",
       "<style scoped>\n",
       "    .dataframe tbody tr th:only-of-type {\n",
       "        vertical-align: middle;\n",
       "    }\n",
       "\n",
       "    .dataframe tbody tr th {\n",
       "        vertical-align: top;\n",
       "    }\n",
       "\n",
       "    .dataframe thead th {\n",
       "        text-align: right;\n",
       "    }\n",
       "</style>\n",
       "<table border=\"1\" class=\"dataframe\">\n",
       "  <thead>\n",
       "    <tr style=\"text-align: right;\">\n",
       "      <th></th>\n",
       "      <th>catalogusprijs</th>\n",
       "      <th>aantal_cilinders</th>\n",
       "    </tr>\n",
       "    <tr>\n",
       "      <th>handelsbenaming</th>\n",
       "      <th></th>\n",
       "      <th></th>\n",
       "    </tr>\n",
       "  </thead>\n",
       "  <tbody>\n",
       "    <tr>\n",
       "      <th>500 ABARTH</th>\n",
       "      <td>26155.000000</td>\n",
       "      <td>4</td>\n",
       "    </tr>\n",
       "    <tr>\n",
       "      <th>500 L</th>\n",
       "      <td>23670.000000</td>\n",
       "      <td>2</td>\n",
       "    </tr>\n",
       "    <tr>\n",
       "      <th>FIAT 500</th>\n",
       "      <td>16954.208955</td>\n",
       "      <td>4</td>\n",
       "    </tr>\n",
       "    <tr>\n",
       "      <th>FIAT BRAVO</th>\n",
       "      <td>23870.111111</td>\n",
       "      <td>4</td>\n",
       "    </tr>\n",
       "    <tr>\n",
       "      <th>FIAT DOBLO</th>\n",
       "      <td>21028.250000</td>\n",
       "      <td>4</td>\n",
       "    </tr>\n",
       "    <tr>\n",
       "      <th>FIAT DUCATO</th>\n",
       "      <td>52967.000000</td>\n",
       "      <td>4</td>\n",
       "    </tr>\n",
       "    <tr>\n",
       "      <th>FIAT PANDA</th>\n",
       "      <td>9620.143939</td>\n",
       "      <td>4</td>\n",
       "    </tr>\n",
       "    <tr>\n",
       "      <th>FIAT PUNTO</th>\n",
       "      <td>16068.958333</td>\n",
       "      <td>4</td>\n",
       "    </tr>\n",
       "    <tr>\n",
       "      <th>FIAT SEDICI</th>\n",
       "      <td>19998.000000</td>\n",
       "      <td>4</td>\n",
       "    </tr>\n",
       "    <tr>\n",
       "      <th>FIORINO QUBO</th>\n",
       "      <td>18142.000000</td>\n",
       "      <td>4</td>\n",
       "    </tr>\n",
       "    <tr>\n",
       "      <th>PANDA</th>\n",
       "      <td>12251.569767</td>\n",
       "      <td>2</td>\n",
       "    </tr>\n",
       "    <tr>\n",
       "      <th>PUNTO ABARTH</th>\n",
       "      <td>24518.000000</td>\n",
       "      <td>4</td>\n",
       "    </tr>\n",
       "    <tr>\n",
       "      <th>QUBO</th>\n",
       "      <td>21600.000000</td>\n",
       "      <td>4</td>\n",
       "    </tr>\n",
       "  </tbody>\n",
       "</table>\n",
       "</div>"
      ],
      "text/plain": [
       "                 catalogusprijs  aantal_cilinders\n",
       "handelsbenaming                                  \n",
       "500 ABARTH         26155.000000                 4\n",
       "500 L              23670.000000                 2\n",
       "FIAT 500           16954.208955                 4\n",
       "FIAT BRAVO         23870.111111                 4\n",
       "FIAT DOBLO         21028.250000                 4\n",
       "FIAT DUCATO        52967.000000                 4\n",
       "FIAT PANDA          9620.143939                 4\n",
       "FIAT PUNTO         16068.958333                 4\n",
       "FIAT SEDICI        19998.000000                 4\n",
       "FIORINO QUBO       18142.000000                 4\n",
       "PANDA              12251.569767                 2\n",
       "PUNTO ABARTH       24518.000000                 4\n",
       "QUBO               21600.000000                 4"
      ]
     },
     "execution_count": 150,
     "metadata": {},
     "output_type": "execute_result"
    }
   ],
   "source": [
    "# grouping and aggregating\n",
    "df_filtered.groupby('handelsbenaming').agg({'catalogusprijs': 'mean', \n",
    "                                            'aantal_cilinders': 'max'})"
   ]
  },
  {
   "cell_type": "code",
   "execution_count": 154,
   "metadata": {},
   "outputs": [
    {
     "data": {
      "text/plain": [
       "'ARIU'"
      ]
     },
     "execution_count": 154,
     "metadata": {},
     "output_type": "execute_result"
    }
   ],
   "source": [
    "name = \"Arie\"\n",
    "\n",
    "# method-chaining\n",
    "name = (name\n",
    "        .upper()\n",
    "        .replace(\"E\", \"U\")\n",
    ")\n",
    "name\n"
   ]
  },
  {
   "cell_type": "code",
   "execution_count": 155,
   "metadata": {},
   "outputs": [],
   "source": [
    "lordify = lambda x: f\"Lord. {x}\""
   ]
  },
  {
   "cell_type": "code",
   "execution_count": 157,
   "metadata": {},
   "outputs": [
    {
     "data": {
      "text/plain": [
       "'Lord. James'"
      ]
     },
     "execution_count": 157,
     "metadata": {},
     "output_type": "execute_result"
    }
   ],
   "source": [
    "lordify(\"James\")"
   ]
  },
  {
   "cell_type": "code",
   "execution_count": 227,
   "metadata": {},
   "outputs": [],
   "source": [
    "# change the plot backend\n",
    "#pandas.options.plotting.backend = 'plotly'\n",
    "pandas.options.plotting.backend = 'matplotlib'"
   ]
  },
  {
   "cell_type": "code",
   "execution_count": 230,
   "metadata": {},
   "outputs": [],
   "source": [
    "# all operations in one data pipe\n",
    "df_filtered_grouped = (\n",
    "    df[columns_list] # filter the columns\n",
    "    .dropna(subset=['catalogusprijs', 'datum_tenaamstelling']) # drop values with NaN's for catalogusprijs\n",
    "    .assign(\n",
    "        handelsbenaming = lambda x: x['handelsbenaming'].str.replace(\"FIAT\", \"\").str.strip(),\n",
    "        catalogusprijs = lambda x: x['catalogusprijs'].astype(float), # convert\n",
    "        aantal_cilinders = lambda x: x['aantal_cilinders'].astype(int), # convert\n",
    "        datum_tenaamstelling = lambda x: pandas.to_datetime(x['datum_tenaamstelling'], format=\"%Y%m%d\")\n",
    "    )\n",
    "    .query(\"catalogusprijs > 10000 & aantal_cilinders >=4\") # filter for price and cilinders\n",
    "    .rename(columns={'handelsbenaming': 'model',\n",
    "                     'catalogusprijs': 'prijs',\n",
    "                     'datum_tenaamstelling': 'datum'}) # rename the columns\n",
    "    .groupby('model')\n",
    "    .agg({\n",
    "        'prijs': 'mean',\n",
    "        'datum': 'min',\n",
    "        'aantal_cilinders': 'max'\n",
    "    })\n",
    "    .assign(\n",
    "        prijs = lambda x: x['prijs'].round(2)\n",
    "    )\n",
    "    .sort_values(by='prijs', ascending=False)\n",
    "    .reset_index()\n",
    ")"
   ]
  },
  {
   "cell_type": "code",
   "execution_count": 233,
   "metadata": {},
   "outputs": [
    {
     "data": {
      "text/html": [
       "<div>\n",
       "<style scoped>\n",
       "    .dataframe tbody tr th:only-of-type {\n",
       "        vertical-align: middle;\n",
       "    }\n",
       "\n",
       "    .dataframe tbody tr th {\n",
       "        vertical-align: top;\n",
       "    }\n",
       "\n",
       "    .dataframe thead th {\n",
       "        text-align: right;\n",
       "    }\n",
       "</style>\n",
       "<table border=\"1\" class=\"dataframe\">\n",
       "  <thead>\n",
       "    <tr style=\"text-align: right;\">\n",
       "      <th></th>\n",
       "      <th>model</th>\n",
       "      <th>prijs</th>\n",
       "      <th>datum</th>\n",
       "      <th>aantal_cilinders</th>\n",
       "    </tr>\n",
       "  </thead>\n",
       "  <tbody>\n",
       "    <tr>\n",
       "      <th>0</th>\n",
       "      <td>DUCATO</td>\n",
       "      <td>52967.00</td>\n",
       "      <td>2018-04-10</td>\n",
       "      <td>4</td>\n",
       "    </tr>\n",
       "    <tr>\n",
       "      <th>1</th>\n",
       "      <td>PUNTO ABARTH</td>\n",
       "      <td>24518.00</td>\n",
       "      <td>2023-07-30</td>\n",
       "      <td>4</td>\n",
       "    </tr>\n",
       "    <tr>\n",
       "      <th>2</th>\n",
       "      <td>BRAVO</td>\n",
       "      <td>23534.86</td>\n",
       "      <td>2019-02-26</td>\n",
       "      <td>4</td>\n",
       "    </tr>\n",
       "    <tr>\n",
       "      <th>3</th>\n",
       "      <td>QUBO</td>\n",
       "      <td>21600.00</td>\n",
       "      <td>2010-05-18</td>\n",
       "      <td>4</td>\n",
       "    </tr>\n",
       "    <tr>\n",
       "      <th>4</th>\n",
       "      <td>DOBLO</td>\n",
       "      <td>21028.25</td>\n",
       "      <td>2010-01-21</td>\n",
       "      <td>4</td>\n",
       "    </tr>\n",
       "    <tr>\n",
       "      <th>5</th>\n",
       "      <td>SEDICI</td>\n",
       "      <td>19998.00</td>\n",
       "      <td>2010-06-14</td>\n",
       "      <td>4</td>\n",
       "    </tr>\n",
       "    <tr>\n",
       "      <th>6</th>\n",
       "      <td>FIORINO QUBO</td>\n",
       "      <td>18142.00</td>\n",
       "      <td>2010-12-09</td>\n",
       "      <td>4</td>\n",
       "    </tr>\n",
       "    <tr>\n",
       "      <th>7</th>\n",
       "      <td>500</td>\n",
       "      <td>16520.31</td>\n",
       "      <td>2009-03-31</td>\n",
       "      <td>4</td>\n",
       "    </tr>\n",
       "    <tr>\n",
       "      <th>8</th>\n",
       "      <td>PUNTO</td>\n",
       "      <td>15869.53</td>\n",
       "      <td>2011-03-05</td>\n",
       "      <td>4</td>\n",
       "    </tr>\n",
       "    <tr>\n",
       "      <th>9</th>\n",
       "      <td>PANDA</td>\n",
       "      <td>10413.06</td>\n",
       "      <td>2010-07-06</td>\n",
       "      <td>4</td>\n",
       "    </tr>\n",
       "  </tbody>\n",
       "</table>\n",
       "</div>"
      ],
      "text/plain": [
       "          model     prijs      datum  aantal_cilinders\n",
       "0        DUCATO  52967.00 2018-04-10                 4\n",
       "1  PUNTO ABARTH  24518.00 2023-07-30                 4\n",
       "2         BRAVO  23534.86 2019-02-26                 4\n",
       "3          QUBO  21600.00 2010-05-18                 4\n",
       "4         DOBLO  21028.25 2010-01-21                 4\n",
       "5        SEDICI  19998.00 2010-06-14                 4\n",
       "6  FIORINO QUBO  18142.00 2010-12-09                 4\n",
       "7           500  16520.31 2009-03-31                 4\n",
       "8         PUNTO  15869.53 2011-03-05                 4\n",
       "9         PANDA  10413.06 2010-07-06                 4"
      ]
     },
     "execution_count": 233,
     "metadata": {},
     "output_type": "execute_result"
    }
   ],
   "source": [
    "df_filtered_grouped"
   ]
  },
  {
   "cell_type": "code",
   "execution_count": 235,
   "metadata": {},
   "outputs": [
    {
     "data": {
      "image/png": "[encoded data removed]",
      "text/plain": [
       "<Figure size 640x480 with 1 Axes>"
      ]
     },
     "metadata": {},
     "output_type": "display_data"
    }
   ],
   "source": [
    "cars_plot = (\n",
    "    df_filtered_grouped\n",
    "    .plot\n",
    "    .bar(x=\"model\", y=\"prijs\")\n",
    ")"
   ]
  },
  {
   "cell_type": "markdown",
   "metadata": {},
   "source": [
    "## Export the DataFrame"
   ]
  },
  {
   "cell_type": "code",
   "execution_count": 236,
   "metadata": {},
   "outputs": [],
   "source": [
    "df_filtered_grouped.to_csv(f\"export/{brand}.csv\", index=False, sep=\";\")"
   ]
  },
  {
   "cell_type": "code",
   "execution_count": 194,
   "metadata": {},
   "outputs": [
    {
     "data": {
      "text/plain": [
       "0     FIAT DUCATO\n",
       "1    PUNTO ABARTH\n",
       "2      FIAT BRAVO\n",
       "3            QUBO\n",
       "4      FIAT DOBLO\n",
       "5     FIAT SEDICI\n",
       "6    FIORINO QUBO\n",
       "7        FIAT 500\n",
       "8      FIAT PUNTO\n",
       "9      FIAT PANDA\n",
       "Name: model, dtype: object"
      ]
     },
     "execution_count": 194,
     "metadata": {},
     "output_type": "execute_result"
    }
   ],
   "source": [
    "df_filtered_grouped['model']"
   ]
  },
  {
   "cell_type": "code",
   "execution_count": 169,
   "metadata": {},
   "outputs": [
    {
     "name": "stdout",
     "output_type": "stream",
     "text": [
      "<class 'pandas.core.frame.DataFrame'>\n",
      "Index: 189 entries, 20 to 976\n",
      "Data columns (total 6 columns):\n",
      " #   Column                Non-Null Count  Dtype         \n",
      "---  ------                --------------  -----         \n",
      " 0   merk                  189 non-null    object        \n",
      " 1   handelsbenaming       189 non-null    object        \n",
      " 2   catalogusprijs        189 non-null    float64       \n",
      " 3   datum_tenaamstelling  179 non-null    datetime64[ns]\n",
      " 4   voertuigsoort         189 non-null    object        \n",
      " 5   aantal_cilinders      189 non-null    int64         \n",
      "dtypes: datetime64[ns](1), float64(1), int64(1), object(3)\n",
      "memory usage: 10.3+ KB\n"
     ]
    }
   ],
   "source": [
    "df_filtered_grouped.info()"
   ]
  },
  {
   "cell_type": "code",
   "execution_count": null,
   "metadata": {},
   "outputs": [],
   "source": []
  }
 ],
 "metadata": {
  "kernelspec": {
   "display_name": "Python 3",
   "language": "python",
   "name": "python3"
  },
  "language_info": {
   "codemirror_mode": {
    "name": "ipython",
    "version": 3
   },
   "file_extension": ".py",
   "mimetype": "text/x-python",
   "name": "python",
   "nbconvert_exporter": "python",
   "pygments_lexer": "ipython3",
   "version": "3.12.2"
  }
 },
 "nbformat": 4,
 "nbformat_minor": 2
}
